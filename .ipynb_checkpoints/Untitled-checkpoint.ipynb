{
 "cells": [
  {
   "cell_type": "markdown",
   "metadata": {},
   "source": [
    "# Built In Module"
   ]
  },
  {
   "cell_type": "markdown",
   "metadata": {},
   "source": [
    "This module is automatically available to python. Not require to import."
   ]
  },
  {
   "cell_type": "code",
   "execution_count": 6,
   "metadata": {},
   "outputs": [
    {
     "name": "stdout",
     "output_type": "stream",
     "text": [
      "1 5\n",
      "Hello World\n",
      "Hi from a. Hello from b.\n"
     ]
    }
   ],
   "source": [
    "#Apply function\n",
    "\n",
    "def function(a,b):\n",
    "    print a,b\n",
    "\n",
    "#With tuple arguement    \n",
    "apply(function,(1,2+3))\n",
    "apply(function,(\"Hello\",\"World\"))\n",
    "\n",
    "#With key arguement\n",
    "apply(function,(\"Hi from a.\",),{\"b\":\"Hello from b.\"})\n"
   ]
  },
  {
   "cell_type": "markdown",
   "metadata": {},
   "source": [
    "Apply function can be used to pass constructor arguement from subclass to base class"
   ]
  },
  {
   "cell_type": "code",
   "execution_count": 8,
   "metadata": {},
   "outputs": [
    {
     "name": "stdout",
     "output_type": "stream",
     "text": [
      "create a green <__main__.Rectangle instance at 0x7f6ac8223f80> sized 100 x 100\n",
      "create a blue <__main__.RoundedRectangle instance at 0x7f6ac8223f38> sized 10 x 20\n"
     ]
    }
   ],
   "source": [
    "class Rectangle:\n",
    "    def __init__(self,color=\"White\",width=10,height=10):\n",
    "        print \"create a\", color, self, \"sized\", width, \"x\", height\n",
    "        \n",
    "class RoundedRectangle(Rectangle):\n",
    "    def __init__(self,**kw):\n",
    "        apply(Rectangle.__init__, (self,), kw)\n",
    "    \n",
    "rect = Rectangle(color=\"green\", height=100, width=100)\n",
    "rect = RoundedRectangle(color=\"blue\", height=20)\n"
   ]
  },
  {
   "cell_type": "markdown",
   "metadata": {},
   "source": [
    "Loading and Reloading Modules\n",
    "If you’ve written a Python program larger than just a few lines, you know that the import statement is used to import external modules (you can also use the from-import version). What you might not know already is that import delegates the actual work to a built-in function called _ _import_ _.\n",
    "\n",
    "The trick is that you can call this function directly. This can be handy if you have the module name in a string variable"
   ]
  },
  {
   "cell_type": "code",
   "execution_count": 11,
   "metadata": {},
   "outputs": [
    {
     "name": "stdout",
     "output_type": "stream",
     "text": [
      "example-plugin says hello\n"
     ]
    }
   ],
   "source": [
    "import glob, os\n",
    "\n",
    "modules = []\n",
    "\n",
    "for module_file in glob.glob(\"*_plugin.py\"):\n",
    "    try:\n",
    "        module_name, ext = os.path.splitext(os.path.basename(module_file))\n",
    "        module = __import__(module_name)\n",
    "        modules.append(module)\n",
    "    except ImportError:\n",
    "        pass # ignore broken modules\n",
    "\n",
    "# say hello to all modules\n",
    "for module in modules:\n",
    "    module.hello()"
   ]
  },
  {
   "cell_type": "code",
   "execution_count": null,
   "metadata": {},
   "outputs": [],
   "source": []
  }
 ],
 "metadata": {
  "kernelspec": {
   "display_name": "Python 2",
   "language": "python",
   "name": "python2"
  },
  "language_info": {
   "codemirror_mode": {
    "name": "ipython",
    "version": 2
   },
   "file_extension": ".py",
   "mimetype": "text/x-python",
   "name": "python",
   "nbconvert_exporter": "python",
   "pygments_lexer": "ipython2",
   "version": "2.7.6"
  }
 },
 "nbformat": 4,
 "nbformat_minor": 2
}
