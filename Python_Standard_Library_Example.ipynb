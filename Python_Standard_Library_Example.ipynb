{
 "cells": [
  {
   "cell_type": "markdown",
   "metadata": {},
   "source": [
    "# Built In Module"
   ]
  },
  {
   "cell_type": "markdown",
   "metadata": {},
   "source": [
    "This module is automatically available to python. Not require to import."
   ]
  },
  {
   "cell_type": "code",
   "execution_count": 6,
   "metadata": {},
   "outputs": [
    {
     "name": "stdout",
     "output_type": "stream",
     "text": [
      "1 5\n",
      "Hello World\n",
      "Hi from a. Hello from b.\n"
     ]
    }
   ],
   "source": [
    "#Apply function\n",
    "\n",
    "def function(a,b):\n",
    "    print a,b\n",
    "\n",
    "#With tuple arguement    \n",
    "apply(function,(1,2+3))\n",
    "apply(function,(\"Hello\",\"World\"))\n",
    "\n",
    "#With key arguement\n",
    "apply(function,(\"Hi from a.\",),{\"b\":\"Hello from b.\"})\n"
   ]
  },
  {
   "cell_type": "markdown",
   "metadata": {},
   "source": [
    "Apply function can be used to pass constructor arguement from subclass to base class"
   ]
  },
  {
   "cell_type": "code",
   "execution_count": 8,
   "metadata": {},
   "outputs": [
    {
     "name": "stdout",
     "output_type": "stream",
     "text": [
      "create a green <__main__.Rectangle instance at 0x7f6ac8223f80> sized 100 x 100\n",
      "create a blue <__main__.RoundedRectangle instance at 0x7f6ac8223f38> sized 10 x 20\n"
     ]
    }
   ],
   "source": [
    "class Rectangle:\n",
    "    def __init__(self,color=\"White\",width=10,height=10):\n",
    "        print \"create a\", color, self, \"sized\", width, \"x\", height\n",
    "        \n",
    "class RoundedRectangle(Rectangle):\n",
    "    def __init__(self,**kw):\n",
    "        apply(Rectangle.__init__, (self,), kw)\n",
    "    \n",
    "rect = Rectangle(color=\"green\", height=100, width=100)\n",
    "rect = RoundedRectangle(color=\"blue\", height=20)\n"
   ]
  },
  {
   "cell_type": "markdown",
   "metadata": {},
   "source": [
    "Loading and Reloading Modules\n",
    "If you’ve written a Python program larger than just a few lines, you know that the import statement is used to import external modules (you can also use the from-import version). What you might not know already is that import delegates the actual work to a built-in function called _ _import_ _.\n",
    "\n",
    "The trick is that you can call this function directly. This can be handy if you have the module name in a string variable"
   ]
  },
  {
   "cell_type": "code",
   "execution_count": 11,
   "metadata": {},
   "outputs": [
    {
     "name": "stdout",
     "output_type": "stream",
     "text": [
      "example-plugin says hello\n"
     ]
    }
   ],
   "source": [
    "import glob, os\n",
    "\n",
    "modules = []\n",
    "\n",
    "for module_file in glob.glob(\"*_plugin.py\"):\n",
    "    try:\n",
    "        module_name, ext = os.path.splitext(os.path.basename(module_file))\n",
    "        module = __import__(module_name)\n",
    "        modules.append(module)\n",
    "    except ImportError:\n",
    "        pass # ignore broken modules\n",
    "\n",
    "# say hello to all modules\n",
    "for module in modules:\n",
    "    module.hello()"
   ]
  },
  {
   "cell_type": "code",
   "execution_count": 1,
   "metadata": {},
   "outputs": [
    {
     "name": "stdout",
     "output_type": "stream",
     "text": [
      "<function open at 0x7f42e02bfc80>\n"
     ]
    }
   ],
   "source": [
    "#import function to get a Named Function\n",
    "def getfunctionbyname(module_name, function_name):\n",
    "    module = __import__(module_name)\n",
    "    return getattr(module, function_name)\n",
    "\n",
    "print repr(getfunctionbyname(\"dumbdbm\", \"open\"))"
   ]
  },
  {
   "cell_type": "code",
   "execution_count": 3,
   "metadata": {},
   "outputs": [
    {
     "name": "stdout",
     "output_type": "stream",
     "text": [
      "abcdefghijklmnopqrstuvwxyz\n"
     ]
    }
   ],
   "source": [
    "## Lazy import function\n",
    "class LazyImport:\n",
    "    def __init__(self, module_name):\n",
    "        self.module_name = module_name\n",
    "        self.module = None\n",
    "    def __getattr__(self, name):\n",
    "        if self.module is None:\n",
    "            self.module = __import__(self.module_name)\n",
    "        return getattr(self.module, name)\n",
    "\n",
    "string = LazyImport(\"string\")\n",
    "\n",
    "print string.lowercase\n"
   ]
  },
  {
   "cell_type": "code",
   "execution_count": 5,
   "metadata": {},
   "outputs": [],
   "source": [
    "#Reload module using reload function\n",
    "\n",
    "#reload(module_name)"
   ]
  },
  {
   "cell_type": "code",
   "execution_count": 6,
   "metadata": {},
   "outputs": [],
   "source": [
    "#getmembers function to return member of a class\n",
    "\n",
    "#def getmembers(klass, members=None):"
   ]
  },
  {
   "cell_type": "code",
   "execution_count": 7,
   "metadata": {},
   "outputs": [],
   "source": [
    "#vars() - it return dictionary of class member function"
   ]
  },
  {
   "cell_type": "code",
   "execution_count": 9,
   "metadata": {},
   "outputs": [
    {
     "name": "stdout",
     "output_type": "stream",
     "text": [
      "0 is *not* callable\n",
      "string is *not* callable\n",
      "<built-in function callable> is callable\n",
      "<function dump at 0x7f42e024a668> is callable\n",
      "__main__.A is callable\n",
      "__main__.B is callable\n",
      "<unbound method B.method> is callable\n",
      "<__main__.A instance at 0x7f42e0251cf8> is *not* callable\n",
      "<__main__.B instance at 0x7f42e0251c68> is callable\n",
      "<bound method B.method of <__main__.B instance at 0x7f42e0251c68>> is callable\n"
     ]
    }
   ],
   "source": [
    "#callable(object) - check if object is callable\n",
    "\n",
    "def dump(function):\n",
    "    if callable(function):\n",
    "        print function, \"is callable\"\n",
    "    else:\n",
    "        print function, \"is *not* callable\"\n",
    "\n",
    "class A:\n",
    "    def method(self, value):\n",
    "        return value\n",
    "\n",
    "class B(A):\n",
    "    def __call__(self, value):\n",
    "        return value\n",
    "\n",
    "a = A()\n",
    "b = B()\n",
    "\n",
    "dump(0) # simple objects\n",
    "dump(\"string\")\n",
    "dump(callable)\n",
    "dump(dump) # function\n",
    "\n",
    "dump(A) # classes\n",
    "dump(B)\n",
    "dump(B.method)\n",
    "\n",
    "dump(a) # instances\n",
    "dump(b)\n",
    "dump(b.method)"
   ]
  },
  {
   "cell_type": "markdown",
   "metadata": {},
   "source": [
    "Note that the class objects (A and B) are both callable; if you call them, they create new objects. However, instances of class A are not callable, since that class doesn’t have a _ _call_ _ method.\n",
    "\n"
   ]
  },
  {
   "cell_type": "code",
   "execution_count": 10,
   "metadata": {},
   "outputs": [],
   "source": [
    "#isinstance(object,class) - To check if object is instance of given class"
   ]
  },
  {
   "cell_type": "code",
   "execution_count": 11,
   "metadata": {},
   "outputs": [],
   "source": [
    "#issubclass(object, A) - If same of subclass"
   ]
  },
  {
   "cell_type": "code",
   "execution_count": 12,
   "metadata": {},
   "outputs": [
    {
     "name": "stdout",
     "output_type": "stream",
     "text": [
      "syntax error: invalid syntax (script.py, line 2) in script.py\n"
     ]
    }
   ],
   "source": [
    "#compile execute \n",
    "\n",
    "NAME = \"script.py\"\n",
    "\n",
    "BODY = \"\"\"\n",
    "prnt 'owl-stretching time'\n",
    "\"\"\"\n",
    "\n",
    "try:\n",
    "    compile(BODY, NAME, \"exec\")\n",
    "except SyntaxError, v:\n",
    "    print \"syntax error:\", v, \"in\", NAME"
   ]
  },
  {
   "cell_type": "code",
   "execution_count": 2,
   "metadata": {},
   "outputs": [],
   "source": [
    "#compile and execute file\n",
    "\n",
    "# execfile(\"hello.py\")\n",
    "\n",
    "# def EXECFILE(filename, locals=None, globals=None):\n",
    "#     exec compile(open(filename).read(), filename, \"exec\") in locals, globals\n",
    "\n",
    "# EXECFILE(\"hello.py\")\n"
   ]
  },
  {
   "cell_type": "code",
   "execution_count": 4,
   "metadata": {},
   "outputs": [
    {
     "name": "stdout",
     "output_type": "stream",
     "text": [
      "138380 bytes\n"
     ]
    },
    {
     "ename": "IOError",
     "evalue": "not a GIF file",
     "output_type": "error",
     "traceback": [
      "\u001b[0;31m---------------------------------------------------------------------------\u001b[0m",
      "\u001b[0;31mIOError\u001b[0m                                   Traceback (most recent call last)",
      "\u001b[0;32m<ipython-input-4-a41cc6ee8a25>\u001b[0m in \u001b[0;36m<module>\u001b[0;34m()\u001b[0m\n\u001b[1;32m     11\u001b[0m \u001b[0;32mprint\u001b[0m \u001b[0mlen\u001b[0m\u001b[0;34m(\u001b[0m\u001b[0mfp\u001b[0m\u001b[0;34m.\u001b[0m\u001b[0mread\u001b[0m\u001b[0;34m(\u001b[0m\u001b[0;34m)\u001b[0m\u001b[0;34m)\u001b[0m\u001b[0;34m,\u001b[0m \u001b[0;34m\"bytes\"\u001b[0m\u001b[0;34m\u001b[0m\u001b[0m\n\u001b[1;32m     12\u001b[0m \u001b[0;34m\u001b[0m\u001b[0m\n\u001b[0;32m---> 13\u001b[0;31m \u001b[0mfp\u001b[0m \u001b[0;34m=\u001b[0m \u001b[0mopen\u001b[0m\u001b[0;34m(\u001b[0m\u001b[0;34m\"samples/sample.jpg\"\u001b[0m\u001b[0;34m)\u001b[0m\u001b[0;34m\u001b[0m\u001b[0m\n\u001b[0m\u001b[1;32m     14\u001b[0m \u001b[0;32mprint\u001b[0m \u001b[0mlen\u001b[0m\u001b[0;34m(\u001b[0m\u001b[0mfp\u001b[0m\u001b[0;34m.\u001b[0m\u001b[0mread\u001b[0m\u001b[0;34m(\u001b[0m\u001b[0;34m)\u001b[0m\u001b[0;34m)\u001b[0m\u001b[0;34m,\u001b[0m \u001b[0;34m\"bytes\"\u001b[0m\u001b[0;34m\u001b[0m\u001b[0m\n",
      "\u001b[0;32m<ipython-input-4-a41cc6ee8a25>\u001b[0m in \u001b[0;36mopen\u001b[0;34m(filename, mode)\u001b[0m\n\u001b[1;32m      4\u001b[0m     \u001b[0mfile\u001b[0m \u001b[0;34m=\u001b[0m \u001b[0m__builtin__\u001b[0m\u001b[0;34m.\u001b[0m\u001b[0mopen\u001b[0m\u001b[0;34m(\u001b[0m\u001b[0mfilename\u001b[0m\u001b[0;34m,\u001b[0m \u001b[0mmode\u001b[0m\u001b[0;34m)\u001b[0m\u001b[0;34m\u001b[0m\u001b[0m\n\u001b[1;32m      5\u001b[0m     \u001b[0;32mif\u001b[0m \u001b[0mfile\u001b[0m\u001b[0;34m.\u001b[0m\u001b[0mread\u001b[0m\u001b[0;34m(\u001b[0m\u001b[0;36m5\u001b[0m\u001b[0;34m)\u001b[0m \u001b[0;32mnot\u001b[0m \u001b[0;32min\u001b[0m\u001b[0;34m(\u001b[0m\u001b[0;34m\"GIF87\"\u001b[0m\u001b[0;34m,\u001b[0m \u001b[0;34m\"GIF89\"\u001b[0m\u001b[0;34m)\u001b[0m\u001b[0;34m:\u001b[0m\u001b[0;34m\u001b[0m\u001b[0m\n\u001b[0;32m----> 6\u001b[0;31m         \u001b[0;32mraise\u001b[0m \u001b[0mIOError\u001b[0m\u001b[0;34m,\u001b[0m \u001b[0;34m\"not a GIF file\"\u001b[0m\u001b[0;34m\u001b[0m\u001b[0m\n\u001b[0m\u001b[1;32m      7\u001b[0m     \u001b[0mfile\u001b[0m\u001b[0;34m.\u001b[0m\u001b[0mseek\u001b[0m\u001b[0;34m(\u001b[0m\u001b[0;36m0\u001b[0m\u001b[0;34m)\u001b[0m\u001b[0;34m\u001b[0m\u001b[0m\n\u001b[1;32m      8\u001b[0m     \u001b[0;32mreturn\u001b[0m \u001b[0mfile\u001b[0m\u001b[0;34m\u001b[0m\u001b[0m\n",
      "\u001b[0;31mIOError\u001b[0m: not a GIF file"
     ]
    }
   ],
   "source": [
    "#Overloading function from built in module\n",
    "def open(filename, mode=\"rb\"):\n",
    "    import __builtin__\n",
    "    file = __builtin__.open(filename, mode)\n",
    "    if file.read(5) not in(\"GIF87\", \"GIF89\"):\n",
    "        raise IOError, \"not a GIF file\"\n",
    "    file.seek(0)\n",
    "    return file\n",
    "\n",
    "fp = open(\"samples/sample.gif\")\n",
    "print len(fp.read()), \"bytes\"\n",
    "\n",
    "fp = open(\"samples/sample.jpg\")\n",
    "print len(fp.read()), \"bytes\""
   ]
  },
  {
   "cell_type": "markdown",
   "metadata": {},
   "source": [
    "# Exception Module"
   ]
  },
  {
   "cell_type": "code",
   "execution_count": 11,
   "metadata": {},
   "outputs": [
    {
     "ename": "CustomException",
     "evalue": "",
     "output_type": "error",
     "traceback": [
      "\u001b[0;31m---------------------------------------------------------------------------\u001b[0m",
      "\u001b[0;31mCustomException\u001b[0m                           Traceback (most recent call last)",
      "\u001b[0;32m<ipython-input-11-1135ac965fc8>\u001b[0m in \u001b[0;36m<module>\u001b[0;34m()\u001b[0m\n\u001b[1;32m      5\u001b[0m \u001b[0;31m#     print \"Hanlde Your Exception\"\u001b[0m\u001b[0;34m\u001b[0m\u001b[0;34m\u001b[0m\u001b[0m\n\u001b[1;32m      6\u001b[0m \u001b[0;34m\u001b[0m\u001b[0m\n\u001b[0;32m----> 7\u001b[0;31m \u001b[0;32mraise\u001b[0m \u001b[0mCustomException\u001b[0m\u001b[0;34m\u001b[0m\u001b[0m\n\u001b[0m",
      "\u001b[0;31mCustomException\u001b[0m: "
     ]
    }
   ],
   "source": [
    "#Create your own exception\n",
    "\n",
    "class CustomException(Exception):\n",
    "    pass\n",
    "#     print \"Hanlde Your Exception\"\n",
    "\n",
    "raise CustomException\n"
   ]
  },
  {
   "cell_type": "code",
   "execution_count": 13,
   "metadata": {},
   "outputs": [
    {
     "ename": "CustomException",
     "evalue": "An Error occurred",
     "output_type": "error",
     "traceback": [
      "\u001b[0;31m---------------------------------------------------------------------------\u001b[0m",
      "\u001b[0;31mCustomException\u001b[0m                           Traceback (most recent call last)",
      "\u001b[0;32m<ipython-input-13-83570182243d>\u001b[0m in \u001b[0;36m<module>\u001b[0;34m()\u001b[0m\n\u001b[0;32m----> 1\u001b[0;31m \u001b[0;32mraise\u001b[0m \u001b[0mCustomException\u001b[0m\u001b[0;34m(\u001b[0m\u001b[0;34m\"An Error occurred\"\u001b[0m\u001b[0;34m)\u001b[0m\u001b[0;34m\u001b[0m\u001b[0m\n\u001b[0m",
      "\u001b[0;31mCustomException\u001b[0m: An Error occurred"
     ]
    }
   ],
   "source": [
    "raise CustomException(\"An Error occurred\")"
   ]
  },
  {
   "cell_type": "markdown",
   "metadata": {},
   "source": [
    "# OS Module"
   ]
  },
  {
   "cell_type": "code",
   "execution_count": null,
   "metadata": {},
   "outputs": [],
   "source": []
  }
 ],
 "metadata": {
  "kernelspec": {
   "display_name": "Python 2",
   "language": "python",
   "name": "python2"
  },
  "language_info": {
   "codemirror_mode": {
    "name": "ipython",
    "version": 2
   },
   "file_extension": ".py",
   "mimetype": "text/x-python",
   "name": "python",
   "nbconvert_exporter": "python",
   "pygments_lexer": "ipython2",
   "version": "2.7.6"
  }
 },
 "nbformat": 4,
 "nbformat_minor": 2
}
